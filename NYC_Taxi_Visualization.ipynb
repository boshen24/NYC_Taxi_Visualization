{
  "cells": [
    {
      "cell_type": "markdown",
      "id": "13267160",
      "metadata": {
        "id": "13267160"
      },
      "source": [
        "# New York Taxi Data Visualization"
      ]
    },
    {
      "cell_type": "markdown",
      "id": "c7f75de8",
      "metadata": {
        "id": "c7f75de8"
      },
      "source": [
        "## Project Overview\n",
        "\n",
        "This notebook analyzes NYC Yellow Taxi trip data from August 2025. We will explore:\n",
        "- Trip patterns and distributions\n",
        "- Temporal trends (hourly and daily patterns)\n",
        "- Spatial patterns (pickup/dropoff hotspots)\n",
        "- Origin-Destination flow analysis"
      ]
    },
    {
      "cell_type": "markdown",
      "id": "4e76ea5e",
      "metadata": {
        "id": "4e76ea5e"
      },
      "source": [
        "## Data Loading and Preparation\n",
        "**Dataset**: ~3.5 million taxi trips from NYC, August 2025\n",
        "https://www.nyc.gov/site/tlc/about/tlc-trip-record-data.page\n"
      ]
    },
    {
      "cell_type": "code",
      "execution_count": 1,
      "id": "0121b5fb",
      "metadata": {
        "id": "0121b5fb"
      },
      "outputs": [],
      "source": [
        "# ============ Import required libraries ============\n",
        "import pandas as pd  # For data processing and analysis\n",
        "import numpy as np  # For numerical computation"
      ]
    },
    {
      "cell_type": "code",
      "execution_count": 2,
      "id": "fa184256",
      "metadata": {
        "colab": {
          "base_uri": "https://localhost:8080/"
        },
        "id": "fa184256",
        "outputId": "e906903c-2d24-4d56-9f38-c1e9208501ff"
      },
      "outputs": [
        {
          "name": "stdout",
          "output_type": "stream",
          "text": [
            "File already exists, skip downloading.\n"
          ]
        }
      ],
      "source": [
        "import os\n",
        "\n",
        "# ============ Load data ============\n",
        "if not os.path.exists(\"yellow_tripdata_2025-08.parquet\"):\n",
        "    print(\"Downloading dataset from GitHub...\")\n",
        "    !wget -q https://raw.githubusercontent.com/boshen24/NYC_Taxi_Visualization/main/yellow_tripdata_2025-08.parquet\n",
        "else:\n",
        "    print(\"File already exists, skip downloading.\")\n",
        "\n",
        "df = pd.read_parquet(\"yellow_tripdata_2025-08.parquet\")"
      ]
    },
    {
      "cell_type": "markdown",
      "id": "be8837b4",
      "metadata": {
        "id": "be8837b4"
      },
      "source": [
        "## 📊 Data Overview\n",
        "\n",
        "First, let's examine the basic information and statistical characteristics of the dataset."
      ]
    },
    {
      "cell_type": "code",
      "execution_count": 3,
      "id": "7dbcdefa",
      "metadata": {
        "colab": {
          "base_uri": "https://localhost:8080/",
          "height": 245
        },
        "id": "7dbcdefa",
        "outputId": "5888249b-c681-4d3a-8fdd-6a73e077a150"
      },
      "outputs": [
        {
          "name": "stdout",
          "output_type": "stream",
          "text": [
            "Trip data: 3,574,091 rows\n"
          ]
        },
        {
          "data": {
            "text/html": [
              "<div>\n",
              "<style scoped>\n",
              "    .dataframe tbody tr th:only-of-type {\n",
              "        vertical-align: middle;\n",
              "    }\n",
              "\n",
              "    .dataframe tbody tr th {\n",
              "        vertical-align: top;\n",
              "    }\n",
              "\n",
              "    .dataframe thead th {\n",
              "        text-align: right;\n",
              "    }\n",
              "</style>\n",
              "<table border=\"1\" class=\"dataframe\">\n",
              "  <thead>\n",
              "    <tr style=\"text-align: right;\">\n",
              "      <th></th>\n",
              "      <th>VendorID</th>\n",
              "      <th>tpep_pickup_datetime</th>\n",
              "      <th>tpep_dropoff_datetime</th>\n",
              "      <th>passenger_count</th>\n",
              "      <th>trip_distance</th>\n",
              "      <th>RatecodeID</th>\n",
              "      <th>store_and_fwd_flag</th>\n",
              "      <th>PULocationID</th>\n",
              "      <th>DOLocationID</th>\n",
              "      <th>payment_type</th>\n",
              "      <th>fare_amount</th>\n",
              "      <th>extra</th>\n",
              "      <th>mta_tax</th>\n",
              "      <th>tip_amount</th>\n",
              "      <th>tolls_amount</th>\n",
              "      <th>improvement_surcharge</th>\n",
              "      <th>total_amount</th>\n",
              "      <th>congestion_surcharge</th>\n",
              "      <th>Airport_fee</th>\n",
              "      <th>cbd_congestion_fee</th>\n",
              "    </tr>\n",
              "  </thead>\n",
              "  <tbody>\n",
              "    <tr>\n",
              "      <th>0</th>\n",
              "      <td>2</td>\n",
              "      <td>2025-08-01 00:52:23</td>\n",
              "      <td>2025-08-01 01:12:20</td>\n",
              "      <td>1.0</td>\n",
              "      <td>8.44</td>\n",
              "      <td>1.0</td>\n",
              "      <td>N</td>\n",
              "      <td>138</td>\n",
              "      <td>141</td>\n",
              "      <td>1</td>\n",
              "      <td>33.8</td>\n",
              "      <td>6.0</td>\n",
              "      <td>0.5</td>\n",
              "      <td>5.00</td>\n",
              "      <td>6.94</td>\n",
              "      <td>1.0</td>\n",
              "      <td>57.49</td>\n",
              "      <td>2.5</td>\n",
              "      <td>1.75</td>\n",
              "      <td>0.00</td>\n",
              "    </tr>\n",
              "    <tr>\n",
              "      <th>1</th>\n",
              "      <td>2</td>\n",
              "      <td>2025-08-01 00:03:01</td>\n",
              "      <td>2025-08-01 00:15:33</td>\n",
              "      <td>2.0</td>\n",
              "      <td>4.98</td>\n",
              "      <td>1.0</td>\n",
              "      <td>N</td>\n",
              "      <td>138</td>\n",
              "      <td>193</td>\n",
              "      <td>1</td>\n",
              "      <td>21.2</td>\n",
              "      <td>6.0</td>\n",
              "      <td>0.5</td>\n",
              "      <td>0.00</td>\n",
              "      <td>0.00</td>\n",
              "      <td>1.0</td>\n",
              "      <td>30.45</td>\n",
              "      <td>0.0</td>\n",
              "      <td>1.75</td>\n",
              "      <td>0.00</td>\n",
              "    </tr>\n",
              "    <tr>\n",
              "      <th>2</th>\n",
              "      <td>7</td>\n",
              "      <td>2025-08-01 00:24:38</td>\n",
              "      <td>2025-08-01 00:24:38</td>\n",
              "      <td>2.0</td>\n",
              "      <td>1.89</td>\n",
              "      <td>1.0</td>\n",
              "      <td>N</td>\n",
              "      <td>249</td>\n",
              "      <td>45</td>\n",
              "      <td>1</td>\n",
              "      <td>14.2</td>\n",
              "      <td>0.0</td>\n",
              "      <td>0.5</td>\n",
              "      <td>3.99</td>\n",
              "      <td>0.00</td>\n",
              "      <td>1.0</td>\n",
              "      <td>23.94</td>\n",
              "      <td>2.5</td>\n",
              "      <td>0.00</td>\n",
              "      <td>0.75</td>\n",
              "    </tr>\n",
              "    <tr>\n",
              "      <th>3</th>\n",
              "      <td>7</td>\n",
              "      <td>2025-08-01 00:48:19</td>\n",
              "      <td>2025-08-01 00:48:19</td>\n",
              "      <td>1.0</td>\n",
              "      <td>2.35</td>\n",
              "      <td>1.0</td>\n",
              "      <td>N</td>\n",
              "      <td>79</td>\n",
              "      <td>229</td>\n",
              "      <td>1</td>\n",
              "      <td>11.4</td>\n",
              "      <td>0.0</td>\n",
              "      <td>0.5</td>\n",
              "      <td>3.43</td>\n",
              "      <td>0.00</td>\n",
              "      <td>1.0</td>\n",
              "      <td>20.58</td>\n",
              "      <td>2.5</td>\n",
              "      <td>0.00</td>\n",
              "      <td>0.75</td>\n",
              "    </tr>\n",
              "    <tr>\n",
              "      <th>4</th>\n",
              "      <td>2</td>\n",
              "      <td>2025-08-01 00:25:34</td>\n",
              "      <td>2025-08-01 00:33:18</td>\n",
              "      <td>1.0</td>\n",
              "      <td>2.14</td>\n",
              "      <td>1.0</td>\n",
              "      <td>N</td>\n",
              "      <td>43</td>\n",
              "      <td>48</td>\n",
              "      <td>1</td>\n",
              "      <td>11.4</td>\n",
              "      <td>1.0</td>\n",
              "      <td>0.5</td>\n",
              "      <td>2.57</td>\n",
              "      <td>0.00</td>\n",
              "      <td>1.0</td>\n",
              "      <td>19.72</td>\n",
              "      <td>2.5</td>\n",
              "      <td>0.00</td>\n",
              "      <td>0.75</td>\n",
              "    </tr>\n",
              "  </tbody>\n",
              "</table>\n",
              "</div>"
            ],
            "text/plain": [
              "   VendorID tpep_pickup_datetime tpep_dropoff_datetime  passenger_count  \\\n",
              "0         2  2025-08-01 00:52:23   2025-08-01 01:12:20              1.0   \n",
              "1         2  2025-08-01 00:03:01   2025-08-01 00:15:33              2.0   \n",
              "2         7  2025-08-01 00:24:38   2025-08-01 00:24:38              2.0   \n",
              "3         7  2025-08-01 00:48:19   2025-08-01 00:48:19              1.0   \n",
              "4         2  2025-08-01 00:25:34   2025-08-01 00:33:18              1.0   \n",
              "\n",
              "   trip_distance  RatecodeID store_and_fwd_flag  PULocationID  DOLocationID  \\\n",
              "0           8.44         1.0                  N           138           141   \n",
              "1           4.98         1.0                  N           138           193   \n",
              "2           1.89         1.0                  N           249            45   \n",
              "3           2.35         1.0                  N            79           229   \n",
              "4           2.14         1.0                  N            43            48   \n",
              "\n",
              "   payment_type  fare_amount  extra  mta_tax  tip_amount  tolls_amount  \\\n",
              "0             1         33.8    6.0      0.5        5.00          6.94   \n",
              "1             1         21.2    6.0      0.5        0.00          0.00   \n",
              "2             1         14.2    0.0      0.5        3.99          0.00   \n",
              "3             1         11.4    0.0      0.5        3.43          0.00   \n",
              "4             1         11.4    1.0      0.5        2.57          0.00   \n",
              "\n",
              "   improvement_surcharge  total_amount  congestion_surcharge  Airport_fee  \\\n",
              "0                    1.0         57.49                   2.5         1.75   \n",
              "1                    1.0         30.45                   0.0         1.75   \n",
              "2                    1.0         23.94                   2.5         0.00   \n",
              "3                    1.0         20.58                   2.5         0.00   \n",
              "4                    1.0         19.72                   2.5         0.00   \n",
              "\n",
              "   cbd_congestion_fee  \n",
              "0                0.00  \n",
              "1                0.00  \n",
              "2                0.75  \n",
              "3                0.75  \n",
              "4                0.75  "
            ]
          },
          "execution_count": 3,
          "metadata": {},
          "output_type": "execute_result"
        }
      ],
      "source": [
        "# ============ Display basic data information ============\n",
        "print(f\"Trip data: {len(df):,} rows\")  # Display total number of rows\n",
        "df.head()"
      ]
    },
    {
      "cell_type": "markdown",
      "id": "ba53b120",
      "metadata": {
        "id": "ba53b120"
      },
      "source": [
        "Data dictionary\n",
        "https://www.nyc.gov/assets/tlc/downloads/pdf/data_dictionary_trip_records_yellow.pdf"
      ]
    },
    {
      "cell_type": "code",
      "execution_count": 4,
      "id": "7302f502",
      "metadata": {
        "colab": {
          "base_uri": "https://localhost:8080/",
          "height": 300
        },
        "id": "7302f502",
        "outputId": "3c4ef1c1-7f5c-4737-fc46-07f6f84e78a5"
      },
      "outputs": [
        {
          "data": {
            "text/html": [
              "<div>\n",
              "<style scoped>\n",
              "    .dataframe tbody tr th:only-of-type {\n",
              "        vertical-align: middle;\n",
              "    }\n",
              "\n",
              "    .dataframe tbody tr th {\n",
              "        vertical-align: top;\n",
              "    }\n",
              "\n",
              "    .dataframe thead th {\n",
              "        text-align: right;\n",
              "    }\n",
              "</style>\n",
              "<table border=\"1\" class=\"dataframe\">\n",
              "  <thead>\n",
              "    <tr style=\"text-align: right;\">\n",
              "      <th></th>\n",
              "      <th>trip_distance</th>\n",
              "      <th>total_amount</th>\n",
              "    </tr>\n",
              "  </thead>\n",
              "  <tbody>\n",
              "    <tr>\n",
              "      <th>count</th>\n",
              "      <td>3574091.00</td>\n",
              "      <td>3574091.00</td>\n",
              "    </tr>\n",
              "    <tr>\n",
              "      <th>mean</th>\n",
              "      <td>7.09</td>\n",
              "      <td>26.39</td>\n",
              "    </tr>\n",
              "    <tr>\n",
              "      <th>std</th>\n",
              "      <td>665.36</td>\n",
              "      <td>25.20</td>\n",
              "    </tr>\n",
              "    <tr>\n",
              "      <th>min</th>\n",
              "      <td>0.00</td>\n",
              "      <td>-1151.23</td>\n",
              "    </tr>\n",
              "    <tr>\n",
              "      <th>25%</th>\n",
              "      <td>1.10</td>\n",
              "      <td>15.16</td>\n",
              "    </tr>\n",
              "    <tr>\n",
              "      <th>50%</th>\n",
              "      <td>2.00</td>\n",
              "      <td>20.70</td>\n",
              "    </tr>\n",
              "    <tr>\n",
              "      <th>75%</th>\n",
              "      <td>4.26</td>\n",
              "      <td>30.28</td>\n",
              "    </tr>\n",
              "    <tr>\n",
              "      <th>max</th>\n",
              "      <td>274082.38</td>\n",
              "      <td>2123.44</td>\n",
              "    </tr>\n",
              "  </tbody>\n",
              "</table>\n",
              "</div>"
            ],
            "text/plain": [
              "       trip_distance  total_amount\n",
              "count     3574091.00    3574091.00\n",
              "mean            7.09         26.39\n",
              "std           665.36         25.20\n",
              "min             0.00      -1151.23\n",
              "25%             1.10         15.16\n",
              "50%             2.00         20.70\n",
              "75%             4.26         30.28\n",
              "max        274082.38       2123.44"
            ]
          },
          "execution_count": 4,
          "metadata": {},
          "output_type": "execute_result"
        }
      ],
      "source": [
        "# View statistics for trip_distance and fare_amount\n",
        "df[['trip_distance', 'total_amount']].describe().round(2)"
      ]
    },
    {
      "cell_type": "markdown",
      "id": "4e913be9",
      "metadata": {
        "id": "4e913be9"
      },
      "source": [
        "## 🧹 Data Cleaning\n",
        "\n",
        "Based on the statistics, we need to filter out anomalous data:\n",
        "- Extremely short or long trip distances\n",
        "- Unreasonable fares and trip durations"
      ]
    },
    {
      "cell_type": "code",
      "execution_count": 5,
      "id": "a577e775",
      "metadata": {
        "colab": {
          "base_uri": "https://localhost:8080/",
          "height": 488
        },
        "id": "a577e775",
        "outputId": "9f3fd8ea-15fa-4b90-8613-9828dfaa3ed6"
      },
      "outputs": [
        {
          "data": {
            "text/html": [
              "<div>\n",
              "<style scoped>\n",
              "    .dataframe tbody tr th:only-of-type {\n",
              "        vertical-align: middle;\n",
              "    }\n",
              "\n",
              "    .dataframe tbody tr th {\n",
              "        vertical-align: top;\n",
              "    }\n",
              "\n",
              "    .dataframe thead th {\n",
              "        text-align: right;\n",
              "    }\n",
              "</style>\n",
              "<table border=\"1\" class=\"dataframe\">\n",
              "  <thead>\n",
              "    <tr style=\"text-align: right;\">\n",
              "      <th></th>\n",
              "      <th>trip_distance</th>\n",
              "      <th>fare_amount</th>\n",
              "      <th>duration_min</th>\n",
              "    </tr>\n",
              "  </thead>\n",
              "  <tbody>\n",
              "    <tr>\n",
              "      <th>count</th>\n",
              "      <td>3574091.00</td>\n",
              "      <td>3574091.00</td>\n",
              "      <td>3574091.00</td>\n",
              "    </tr>\n",
              "    <tr>\n",
              "      <th>mean</th>\n",
              "      <td>7.09</td>\n",
              "      <td>18.10</td>\n",
              "      <td>17.28</td>\n",
              "    </tr>\n",
              "    <tr>\n",
              "      <th>std</th>\n",
              "      <td>665.36</td>\n",
              "      <td>20.94</td>\n",
              "      <td>29.00</td>\n",
              "    </tr>\n",
              "    <tr>\n",
              "      <th>min</th>\n",
              "      <td>0.00</td>\n",
              "      <td>-1143.30</td>\n",
              "      <td>-208.88</td>\n",
              "    </tr>\n",
              "    <tr>\n",
              "      <th>1%</th>\n",
              "      <td>0.00</td>\n",
              "      <td>-15.60</td>\n",
              "      <td>0.00</td>\n",
              "    </tr>\n",
              "    <tr>\n",
              "      <th>5%</th>\n",
              "      <td>0.36</td>\n",
              "      <td>-4.00</td>\n",
              "      <td>3.07</td>\n",
              "    </tr>\n",
              "    <tr>\n",
              "      <th>10%</th>\n",
              "      <td>0.62</td>\n",
              "      <td>4.40</td>\n",
              "      <td>4.73</td>\n",
              "    </tr>\n",
              "    <tr>\n",
              "      <th>25%</th>\n",
              "      <td>1.10</td>\n",
              "      <td>8.60</td>\n",
              "      <td>8.08</td>\n",
              "    </tr>\n",
              "    <tr>\n",
              "      <th>50%</th>\n",
              "      <td>2.00</td>\n",
              "      <td>13.50</td>\n",
              "      <td>13.48</td>\n",
              "    </tr>\n",
              "    <tr>\n",
              "      <th>75%</th>\n",
              "      <td>4.26</td>\n",
              "      <td>22.60</td>\n",
              "      <td>21.43</td>\n",
              "    </tr>\n",
              "    <tr>\n",
              "      <th>90%</th>\n",
              "      <td>9.50</td>\n",
              "      <td>40.10</td>\n",
              "      <td>32.63</td>\n",
              "    </tr>\n",
              "    <tr>\n",
              "      <th>95%</th>\n",
              "      <td>14.30</td>\n",
              "      <td>62.00</td>\n",
              "      <td>44.03</td>\n",
              "    </tr>\n",
              "    <tr>\n",
              "      <th>99%</th>\n",
              "      <td>20.00</td>\n",
              "      <td>82.80</td>\n",
              "      <td>68.63</td>\n",
              "    </tr>\n",
              "    <tr>\n",
              "      <th>max</th>\n",
              "      <td>274082.38</td>\n",
              "      <td>2092.50</td>\n",
              "      <td>11295.83</td>\n",
              "    </tr>\n",
              "  </tbody>\n",
              "</table>\n",
              "</div>"
            ],
            "text/plain": [
              "       trip_distance  fare_amount  duration_min\n",
              "count     3574091.00   3574091.00    3574091.00\n",
              "mean            7.09        18.10         17.28\n",
              "std           665.36        20.94         29.00\n",
              "min             0.00     -1143.30       -208.88\n",
              "1%              0.00       -15.60          0.00\n",
              "5%              0.36        -4.00          3.07\n",
              "10%             0.62         4.40          4.73\n",
              "25%             1.10         8.60          8.08\n",
              "50%             2.00        13.50         13.48\n",
              "75%             4.26        22.60         21.43\n",
              "90%             9.50        40.10         32.63\n",
              "95%            14.30        62.00         44.03\n",
              "99%            20.00        82.80         68.63\n",
              "max        274082.38      2092.50      11295.83"
            ]
          },
          "execution_count": 5,
          "metadata": {},
          "output_type": "execute_result"
        }
      ],
      "source": [
        "# ============ Convert time fields ============\n",
        "df[\"tpep_pickup_datetime\"] = pd.to_datetime(df[\"tpep_pickup_datetime\"])  # Convert pickup time to datetime\n",
        "df[\"tpep_dropoff_datetime\"] = pd.to_datetime(df[\"tpep_dropoff_datetime\"])  # Convert dropoff time to datetime\n",
        "\n",
        "# ============ Calculate trip duration ============\n",
        "df[\"duration_min\"] = (df[\"tpep_dropoff_datetime\"] - df[\"tpep_pickup_datetime\"]).dt.total_seconds() / 60  # Duration in minutes\n",
        "\n",
        "# View statistics for trip_distance, fare_amount, and duration_min\n",
        "df[['trip_distance', 'fare_amount', 'duration_min']].describe(percentiles=[0.01, 0.05, 0.1, 0.25, 0.5, 0.75, 0.9, 0.95, 0.99]).round(2)"
      ]
    },
    {
      "cell_type": "code",
      "execution_count": 6,
      "id": "865bdf04",
      "metadata": {
        "colab": {
          "base_uri": "https://localhost:8080/"
        },
        "id": "865bdf04",
        "outputId": "e0a3ae19-0a46-4a09-b312-cb2765a3055e"
      },
      "outputs": [
        {
          "name": "stdout",
          "output_type": "stream",
          "text": [
            "After cleaning: 3,242,639 rows (90.7%)\n"
          ]
        }
      ],
      "source": [
        "# ============ Filter reasonable trip data ============\n",
        "valid = df[\n",
        "    (df[\"trip_distance\"] > 0.1) &  # Trip distance > 0.1 miles (filter out abnormally short distances)\n",
        "    (df[\"trip_distance\"] < 100) &  # Trip distance < 100 miles (filter out abnormally long distances)\n",
        "    (df[\"total_amount\"] > 3) &  # Fare > $3 (filter out abnormally low fares)\n",
        "    (df[\"total_amount\"] < 200) &  # Fare < $200 (filter out abnormally high fares)\n",
        "    (df[\"duration_min\"] > 1) &  # Duration > 1 minute (filter out abnormally short trips)\n",
        "    (df[\"duration_min\"] < 120)  # Duration < 120 minutes (filter out abnormally long trips)\n",
        "].copy()  # Copy filtered data to avoid modifying original data\n",
        "\n",
        "# ============ Output cleaning results ============\n",
        "print(f\"After cleaning: {len(valid):,} rows ({len(valid)/len(df):.1%})\")  # Display retained rows and percentage"
      ]
    },
    {
      "cell_type": "code",
      "execution_count": 7,
      "id": "773ccac8",
      "metadata": {
        "colab": {
          "base_uri": "https://localhost:8080/",
          "height": 488
        },
        "id": "773ccac8",
        "outputId": "de3fefc5-25ea-4c23-bd6c-71e9831b2ea7"
      },
      "outputs": [
        {
          "data": {
            "text/html": [
              "<div>\n",
              "<style scoped>\n",
              "    .dataframe tbody tr th:only-of-type {\n",
              "        vertical-align: middle;\n",
              "    }\n",
              "\n",
              "    .dataframe tbody tr th {\n",
              "        vertical-align: top;\n",
              "    }\n",
              "\n",
              "    .dataframe thead th {\n",
              "        text-align: right;\n",
              "    }\n",
              "</style>\n",
              "<table border=\"1\" class=\"dataframe\">\n",
              "  <thead>\n",
              "    <tr style=\"text-align: right;\">\n",
              "      <th></th>\n",
              "      <th>trip_distance</th>\n",
              "      <th>total_amount</th>\n",
              "      <th>duration_min</th>\n",
              "    </tr>\n",
              "  </thead>\n",
              "  <tbody>\n",
              "    <tr>\n",
              "      <th>count</th>\n",
              "      <td>3242639.00</td>\n",
              "      <td>3242639.00</td>\n",
              "      <td>3242639.00</td>\n",
              "    </tr>\n",
              "    <tr>\n",
              "      <th>mean</th>\n",
              "      <td>3.85</td>\n",
              "      <td>28.04</td>\n",
              "      <td>17.28</td>\n",
              "    </tr>\n",
              "    <tr>\n",
              "      <th>std</th>\n",
              "      <td>4.44</td>\n",
              "      <td>21.22</td>\n",
              "      <td>13.29</td>\n",
              "    </tr>\n",
              "    <tr>\n",
              "      <th>min</th>\n",
              "      <td>0.11</td>\n",
              "      <td>3.01</td>\n",
              "      <td>1.02</td>\n",
              "    </tr>\n",
              "    <tr>\n",
              "      <th>1%</th>\n",
              "      <td>0.34</td>\n",
              "      <td>3.99</td>\n",
              "      <td>2.38</td>\n",
              "    </tr>\n",
              "    <tr>\n",
              "      <th>5%</th>\n",
              "      <td>0.58</td>\n",
              "      <td>9.56</td>\n",
              "      <td>4.05</td>\n",
              "    </tr>\n",
              "    <tr>\n",
              "      <th>10%</th>\n",
              "      <td>0.75</td>\n",
              "      <td>12.31</td>\n",
              "      <td>5.33</td>\n",
              "    </tr>\n",
              "    <tr>\n",
              "      <th>25%</th>\n",
              "      <td>1.20</td>\n",
              "      <td>16.02</td>\n",
              "      <td>8.45</td>\n",
              "    </tr>\n",
              "    <tr>\n",
              "      <th>50%</th>\n",
              "      <td>2.10</td>\n",
              "      <td>21.42</td>\n",
              "      <td>13.73</td>\n",
              "    </tr>\n",
              "    <tr>\n",
              "      <th>75%</th>\n",
              "      <td>4.42</td>\n",
              "      <td>30.85</td>\n",
              "      <td>21.67</td>\n",
              "    </tr>\n",
              "    <tr>\n",
              "      <th>90%</th>\n",
              "      <td>9.68</td>\n",
              "      <td>54.15</td>\n",
              "      <td>32.95</td>\n",
              "    </tr>\n",
              "    <tr>\n",
              "      <th>95%</th>\n",
              "      <td>14.59</td>\n",
              "      <td>79.87</td>\n",
              "      <td>44.35</td>\n",
              "    </tr>\n",
              "    <tr>\n",
              "      <th>99%</th>\n",
              "      <td>19.87</td>\n",
              "      <td>104.03</td>\n",
              "      <td>68.00</td>\n",
              "    </tr>\n",
              "    <tr>\n",
              "      <th>max</th>\n",
              "      <td>93.60</td>\n",
              "      <td>199.99</td>\n",
              "      <td>119.98</td>\n",
              "    </tr>\n",
              "  </tbody>\n",
              "</table>\n",
              "</div>"
            ],
            "text/plain": [
              "       trip_distance  total_amount  duration_min\n",
              "count     3242639.00    3242639.00    3242639.00\n",
              "mean            3.85         28.04         17.28\n",
              "std             4.44         21.22         13.29\n",
              "min             0.11          3.01          1.02\n",
              "1%              0.34          3.99          2.38\n",
              "5%              0.58          9.56          4.05\n",
              "10%             0.75         12.31          5.33\n",
              "25%             1.20         16.02          8.45\n",
              "50%             2.10         21.42         13.73\n",
              "75%             4.42         30.85         21.67\n",
              "90%             9.68         54.15         32.95\n",
              "95%            14.59         79.87         44.35\n",
              "99%            19.87        104.03         68.00\n",
              "max            93.60        199.99        119.98"
            ]
          },
          "execution_count": 7,
          "metadata": {},
          "output_type": "execute_result"
        }
      ],
      "source": [
        "# View statistics for trip_distance, total_amount, and duration_min\n",
        "valid[['trip_distance', 'total_amount', 'duration_min']].describe(percentiles=[0.01, 0.05, 0.1, 0.25, 0.5, 0.75, 0.9, 0.95, 0.99]).round(2)"
      ]
    },
    {
      "cell_type": "markdown",
      "id": "6dcdf6d3",
      "metadata": {
        "id": "6dcdf6d3"
      },
      "source": [
        "## 📈 Data Distribution Visualization\n",
        "\n",
        "Visualize the distribution of three key metrics using histograms."
      ]
    },
    {
      "cell_type": "code",
      "execution_count": 8,
      "id": "ca9bae4b",
      "metadata": {
        "colab": {
          "base_uri": "https://localhost:8080/",
          "height": 494
        },
        "id": "ca9bae4b",
        "outputId": "ab7f8fb5-a742-4940-a522-ca400be94ff9"
      },
      "outputs": [
        {
          "data": {
            "image/png": "[encoded data removed]",
            "text/plain": [
              "<Figure size 1500x500 with 3 Axes>"
            ]
          },
          "metadata": {},
          "output_type": "display_data"
        }
      ],
      "source": [
        "# Import visualization libraries\n",
        "import matplotlib.pyplot as plt  # For creating plots\n",
        "import seaborn as sns  # For enhanced statistical visualizations\n",
        "\n",
        "# Create a figure with 3 subplots arranged in 1 row and 3 columns\n",
        "fig, axes = plt.subplots(1, 3, figsize=(15, 5))  # figsize=(width, height) in inches\n",
        "\n",
        "# ============ Histogram 1: Trip Distance ============\n",
        "sns.histplot(valid['trip_distance'], bins=50, ax=axes[0], color='skyblue', edgecolor='black')  # bins=50: divide data into 50 intervals\n",
        "axes[0].set_title('Trip Distance Distribution')  # Set subplot title\n",
        "axes[0].set_xlabel('Distance (miles)')  # Label for x-axis\n",
        "axes[0].set_ylabel('Frequency')  # Label for y-axis (count of trips)\n",
        "\n",
        "# ============ Histogram 2: Total Amount ============\n",
        "sns.histplot(valid['total_amount'], bins=50, ax=axes[1], color='lightcoral', edgecolor='black')  # Red color for fare data\n",
        "axes[1].set_title('Total Amount Distribution')  # Set subplot title\n",
        "axes[1].set_xlabel('Total Amount (USD)')  # X-axis shows fare in US dollars\n",
        "axes[1].set_ylabel('Frequency')  # Y-axis shows frequency count\n",
        "\n",
        "# ============ Histogram 3: Trip Duration ============\n",
        "sns.histplot(valid['duration_min'], bins=50, ax=axes[2], color='lightgreen', edgecolor='black')  # Green color for duration\n",
        "axes[2].set_title('Trip Duration Distribution')  # Set subplot title\n",
        "axes[2].set_xlabel('Duration (minutes)')  # X-axis shows time in minutes\n",
        "axes[2].set_ylabel('Frequency')  # Y-axis shows frequency count\n",
        "\n",
        "# Automatically adjust spacing between subplots to prevent overlap\n",
        "plt.tight_layout()"
      ]
    },
    {
      "cell_type": "markdown",
      "id": "48b5b234",
      "metadata": {
        "id": "48b5b234"
      },
      "source": [
        "## ⏰ Temporal Pattern Analysis\n",
        "\n",
        "Visualize the number of trips starting each day throughout August 2025.\n"
      ]
    },
    {
      "cell_type": "code",
      "execution_count": null,
      "id": "221c88f7",
      "metadata": {},
      "outputs": [
        {
          "name": "stdout",
          "output_type": "stream",
          "text": [
            "Total trips in August 2025: 3,242,624\n"
          ]
        },
        {
          "data": {
            "image/png": "[encoded data removed]",
            "text/plain": [
              "<Figure size 1400x600 with 1 Axes>"
            ]
          },
          "metadata": {},
          "output_type": "display_data"
        },
        {
          "name": "stdout",
          "output_type": "stream",
          "text": [
            "\n",
            "Daily Trip Statistics (August 2025):\n",
            "  Average trips per day: 104,601\n",
            "  Highest volume day: 2025-08-13 (120,404 trips)\n",
            "  Lowest volume day: 2025-08-18 (83,863 trips)\n"
          ]
        }
      ],
      "source": [
        "# ============ Filter data for August 2025 ============\n",
        "august_2025 = valid[\n",
        "    (valid[\"tpep_pickup_datetime\"].dt.year == 2025) & \n",
        "    (valid[\"tpep_pickup_datetime\"].dt.month == 8)\n",
        "].copy()  # Filter trips that started in August 2025\n",
        "\n",
        "print(f\"Total trips in August 2025: {len(august_2025):,}\")\n",
        "\n",
        "# ============ Extract date from pickup datetime ============\n",
        "august_2025[\"date\"] = august_2025[\"tpep_pickup_datetime\"].dt.date  # Extract just the date (year-month-day)\n",
        "\n",
        "# ============ Count trips per day ============\n",
        "daily_trips = august_2025.groupby(\"date\").size().reset_index(name=\"trip_count\")\n",
        "# groupby(\"date\"): group all trips by their pickup date\n",
        "# size(): count number of trips for each date\n",
        "# reset_index(): convert to dataframe with columns: date, trip_count\n",
        "\n",
        "# ============ Create line chart ============\n",
        "plt.figure(figsize=(14, 6))  # Create 14x6 inch figure\n",
        "plt.plot(daily_trips[\"date\"], daily_trips[\"trip_count\"], \n",
        "         linewidth=2.5, color='#2E86AB', marker='o', markersize=5)  # Draw line with markers at each point\n",
        "\n",
        "# ============ Customize plot appearance ============\n",
        "plt.title(\"Daily Trip Volume in August 2025\", fontsize=16, fontweight='bold')  # Add title\n",
        "plt.xlabel(\"Date\", fontsize=12)  # Label x-axis\n",
        "plt.ylabel(\"Number of Trips\", fontsize=12)  # Label y-axis\n",
        "plt.grid(True, alpha=0.3, linestyle='--')  # Add light dashed gridlines for easier reading\n",
        "\n",
        "# Format y-axis to show numbers with commas (e.g., 100,000 instead of 100000)\n",
        "ax = plt.gca()  # Get current axis\n",
        "ax.yaxis.set_major_formatter(plt.FuncFormatter(lambda x, p: f'{int(x):,}'))\n",
        "\n",
        "# Rotate x-axis labels for better readability\n",
        "plt.xticks(rotation=45, ha='right')\n",
        "\n",
        "plt.tight_layout()  # Adjust spacing"
      ]
    },
    {
      "cell_type": "markdown",
      "id": "be825c50",
      "metadata": {},
      "source": [
        "Analyze taxi usage patterns across different hours and days of the week to identify peak demand periods."
      ]
    },
    {
      "cell_type": "code",
      "execution_count": null,
      "id": "02ae3fd0",
      "metadata": {
        "colab": {
          "base_uri": "https://localhost:8080/",
          "height": 507
        },
        "id": "02ae3fd0",
        "outputId": "48b5a24a-f284-493d-b1d7-6dcd637b3439"
      },
      "outputs": [
        {
          "data": {
            "image/png": "[encoded data removed]",
            "text/plain": [
              "<Figure size 1400x500 with 2 Axes>"
            ]
          },
          "metadata": {},
          "output_type": "display_data"
        }
      ],
      "source": [
        "# ============ Extract time features from datetime ============\n",
        "valid[\"hour\"] = valid[\"tpep_pickup_datetime\"].dt.hour  # Extract hour of day (0-23) from pickup time\n",
        "valid[\"dow\"] = valid[\"tpep_pickup_datetime\"].dt.dayofweek  # Extract day of week (0=Mon, 1=Tue, ..., 6=Sun)\n",
        "\n",
        "# ============ Aggregate trip counts by day and hour ============\n",
        "hourly = valid.groupby([\"dow\", \"hour\"]).size().unstack(fill_value=0)  # Group by day+hour, count trips, pivot to matrix format\n",
        "days = [\"Mon\", \"Tue\", \"Wed\", \"Thu\", \"Fri\", \"Sat\", \"Sun\"]  # Day name labels for y-axis\n",
        "\n",
        "# ============ Create figure canvas ============\n",
        "plt.figure(figsize=(14, 5))  # Set figure size: 14 inches wide, 5 inches tall\n",
        "\n",
        "# ============ Draw heatmap visualization ============\n",
        "sns.heatmap(hourly, cmap=\"YlOrRd\", cbar_kws={\"label\": \"Trip Count\"})\n",
        "\n",
        "# ============ Customize axis labels and ticks ============\n",
        "plt.xlabel(\"Hour\")  # Label x-axis as Hour (0 to 23)\n",
        "plt.ylabel(\"\")  # Leave y-axis label empty (day names are self-explanatory)\n",
        "plt.yticks(range(7), days, rotation=0)  # Replace numeric ticks (0-6) with day names, no rotation\n",
        "\n",
        "# ============ Set title, adjust layout, and display ============\n",
        "plt.title(\"Trip Distribution by Day of Week and Hour\")  # Add descriptive title\n",
        "plt.tight_layout()  # Optimize spacing to prevent label cutoff"
      ]
    },
    {
      "cell_type": "markdown",
      "id": "f79fc223",
      "metadata": {
        "id": "f79fc223"
      },
      "source": [
        "## 🗺️ Geospatial Analysis\n",
        "\n",
        "### Load NYC Taxi Zone Geographic Data"
      ]
    },
    {
      "cell_type": "code",
      "execution_count": null,
      "id": "34578d23",
      "metadata": {
        "colab": {
          "base_uri": "https://localhost:8080/"
        },
        "id": "34578d23",
        "outputId": "6e4477c6-3d29-47e3-d2a6-f406aaaeafde"
      },
      "outputs": [],
      "source": [
        "# Import geospatial data processing library\n",
        "import geopandas as gpd  # GeoPandas extends pandas to work with geographic data\n",
        "\n",
        "if not os.path.exists(\"taxi_zones/taxi_zones.shp\"):\n",
        "    print(\"Downloading taxi_zones shapefile zip from GitHub...\")\n",
        "    !mkdir -p taxi_zones\n",
        "    !wget -q -O taxi_zones/taxi_zones.zip https://github.com/boshen24/NYC_Taxi_Visualization/raw/main/taxi_zones.zip\n",
        "    !unzip -q taxi_zones/taxi_zones.zip -d .\n",
        "else:\n",
        "    print(\"Shapefile already exists, skip downloading.\")\n",
        "\n",
        "# Load NYC taxi zone boundaries from Shapefile\n",
        "zones = gpd.read_file(\"taxi_zones/taxi_zones.shp\")\n",
        "# Shapefile (.shp) contains polygon geometries for each taxi zone in NYC"
      ]
    },
    {
      "cell_type": "markdown",
      "id": "6b555f28",
      "metadata": {
        "id": "6b555f28"
      },
      "source": [
        "### Pickup Locations Heatmap\n",
        "\n",
        "Visualize the spatial distribution of taxi pickups across NYC zones.\n"
      ]
    },
    {
      "cell_type": "code",
      "execution_count": null,
      "id": "0c433301",
      "metadata": {
        "colab": {
          "base_uri": "https://localhost:8080/",
          "height": 1000
        },
        "id": "0c433301",
        "outputId": "09924827-979b-42ac-bcfb-3ba2af9c6145"
      },
      "outputs": [],
      "source": [
        "# ============ Count pickups by zone ============\n",
        "pickup_counts = valid[\"PULocationID\"].value_counts().reset_index()  # Count number of pickups for each zone ID\n",
        "# value_counts(): aggregates by zone, reset_index(): converts series to dataframe\n",
        "pickup_counts.columns = [\"LocationID\", \"count\"]  # Rename columns for clarity\n",
        "\n",
        "# ============ Merge geographic and statistical data ============\n",
        "zones_pickup = zones.merge(pickup_counts, on=\"LocationID\", how=\"left\").fillna(0)\n",
        "# Merge zone geometries with pickup counts by matching LocationID\n",
        "# how=\"left\": keep all zones, even those with no pickups\n",
        "# fillna(0): zones with no pickups get count=0\n",
        "\n",
        "# ============ Create figure and axis ============\n",
        "fig, ax = plt.subplots(figsize=(12, 10))  # Create 12x10 inch figure\n",
        "\n",
        "# ============ Draw choropleth map (geographic heatmap) ============\n",
        "zones_pickup.plot(\n",
        "    column=\"count\",  # Color each zone based on pickup count\n",
        "    cmap=\"Reds\",  # Color scheme: white (low) to dark red (high)\n",
        "    legend=True,  # Display color scale legend\n",
        "    ax=ax,  # Plot on the specified axis\n",
        "    edgecolor=\"black\",  # Draw zone boundaries in black\n",
        "    linewidth=0.5,  # Boundary line thickness\n",
        "    legend_kwds={\"label\": \"Pickup Count\", \"shrink\": 0.6}  # Customize legend: add label, reduce size to 60%\n",
        ")\n",
        "\n",
        "# ============ Customize plot appearance ============\n",
        "ax.set_title(\"Pickup Location Heatmap\", fontsize=16)  # Set title with font size\n",
        "ax.axis(\"off\")  # Hide coordinate axes for cleaner map\n",
        "plt.tight_layout()  # Optimize spacing\n",
        "plt.show()  # Display the map\n",
        "\n",
        "# ============ Print top 10 pickup locations ============\n",
        "print(\"\\nTop 10 Pickup Locations:\")  # Print section header\n",
        "top_pu = zones_pickup.nlargest(10, \"count\")[[\"zone\", \"borough\", \"count\"]]  # Select top 10 zones, keep 3 columns\n",
        "print(top_pu.to_string(index=False))  # Print table without row numbers"
      ]
    },
    {
      "cell_type": "markdown",
      "id": "41567a4b",
      "metadata": {
        "id": "41567a4b"
      },
      "source": [
        "Using logarithmic scale to better visualize the wide range of pickup volumes."
      ]
    },
    {
      "cell_type": "code",
      "execution_count": null,
      "id": "4ea2d997",
      "metadata": {
        "colab": {
          "base_uri": "https://localhost:8080/",
          "height": 1000
        },
        "id": "4ea2d997",
        "outputId": "3a1dadc9-139d-40ee-c7ba-f5f8bc9fd401"
      },
      "outputs": [],
      "source": [
        "# ============ Apply logarithmic transformation ============\n",
        "# Why log scale? Pickup counts have huge range (e.g., 10 to 100,000)\n",
        "# Log scale compresses the range and makes patterns more visible\n",
        "zones_pickup[\"log_count\"] = np.log10(zones_pickup[\"count\"] + 1)\n",
        "# np.log10(): base-10 logarithm\n",
        "# +1: prevents log(0) error for zones with zero pickups\n",
        "\n",
        "# ============ Create figure and axis ============\n",
        "fig, ax = plt.subplots(figsize=(12, 10))  # Create 12x10 inch figure\n",
        "\n",
        "# ============ Draw choropleth map with log scale ============\n",
        "zones_pickup.plot(\n",
        "    column=\"log_count\",  # Color zones by log10-transformed pickup count\n",
        "    cmap=\"Reds\",  # Red color gradient\n",
        "    legend=True,  # Display color scale legend\n",
        "    ax=ax,  # Plot on the axis\n",
        "    edgecolor=\"black\",  # Black zone boundaries\n",
        "    linewidth=0.5,  # Boundary thickness\n",
        "    legend_kwds={\"label\": \"log10(Pickup Count)\", \"shrink\": 0.6}  # Legend shows it's log scale\n",
        ")\n",
        "\n",
        "# ============ Customize and display ============\n",
        "ax.set_title(\"Pickup Location Heatmap (log scale)\", fontsize=16)  # Title indicates log scale\n",
        "ax.axis(\"off\")  # Hide axes for cleaner map\n",
        "plt.tight_layout()  # Optimize spacing\n",
        "plt.show()  # Display the map\n",
        "\n",
        "# ============ Print top 10 pickup locations ============\n",
        "print(\"\\nTop 10 Pickup Locations:\")  # Print section header\n",
        "top_pu = zones_pickup.nlargest(10, \"count\")[[\"zone\", \"borough\", \"count\"]]  # Get top 10 by original count (not log)\n",
        "print(top_pu.to_string(index=False))  # Display as table without row indices"
      ]
    },
    {
      "cell_type": "markdown",
      "id": "af1194bd",
      "metadata": {
        "id": "af1194bd"
      },
      "source": [
        "### Dropoff Locations Heatmap\n",
        "\n",
        "Visualize the spatial distribution of taxi dropoffs across NYC zones.\n"
      ]
    },
    {
      "cell_type": "code",
      "execution_count": null,
      "id": "94b164c9",
      "metadata": {
        "colab": {
          "base_uri": "https://localhost:8080/",
          "height": 988
        },
        "id": "94b164c9",
        "outputId": "ee85856a-b91d-42de-b303-b9b608e4c292"
      },
      "outputs": [],
      "source": [
        "# ============ Count dropoffs by zone ============\n",
        "dropoff_counts = valid[\"DOLocationID\"].value_counts().reset_index()  # Count dropoffs per zone ID\n",
        "# DOLocationID: Dropoff Location ID column\n",
        "dropoff_counts.columns = [\"LocationID\", \"count\"]  # Rename for consistency\n",
        "\n",
        "# ============ Merge geographic and count data ============\n",
        "zones_dropoff = zones.merge(dropoff_counts, on=\"LocationID\", how=\"left\").fillna(0)\n",
        "# Join dropoff counts to zone geometries by LocationID\n",
        "# fillna(0): zones with no dropoffs get 0\n",
        "\n",
        "# ============ Apply logarithmic transformation ============\n",
        "zones_dropoff[\"log_count\"] = np.log10(zones_dropoff[\"count\"] + 1)\n",
        "# Log scale compresses wide range of values for better visualization\n",
        "# +1 prevents undefined log(0)\n",
        "\n",
        "# ============ Create figure and axis ============\n",
        "fig, ax = plt.subplots(figsize=(12, 10))  # 12x10 inch figure\n",
        "\n",
        "# ============ Draw choropleth map ============\n",
        "zones_dropoff.plot(\n",
        "    column=\"log_count\",  # Color by log-transformed dropoff count\n",
        "    cmap=\"Blues\",  # Blue color gradient (different from pickup's red)\n",
        "    legend=True,  # Show color scale\n",
        "    ax=ax,  # Specify axis\n",
        "    edgecolor=\"black\",  # Black boundaries\n",
        "    linewidth=0.5,  # Boundary width\n",
        "    legend_kwds={\"label\": \"log10(Dropoff Count)\", \"shrink\": 0.6}  # Legend configuration\n",
        ")\n",
        "\n",
        "# ============ Customize and display ============\n",
        "ax.set_title(\"Dropoff Location Heatmap (log scale)\", fontsize=16)  # Descriptive title\n",
        "ax.axis(\"off\")  # Hide coordinate axes\n",
        "plt.tight_layout()  # Adjust spacing\n",
        "plt.show()  # Display map"
      ]
    },
    {
      "cell_type": "code",
      "execution_count": null,
      "id": "95ae7c7a",
      "metadata": {
        "colab": {
          "base_uri": "https://localhost:8080/"
        },
        "id": "95ae7c7a",
        "outputId": "2e4fa0c8-5101-4d45-980a-f1a8a1b4a6f0"
      },
      "outputs": [],
      "source": [
        "# ============ Print top 10 dropoff locations ============\n",
        "print(\"\\nTop 10 Dropoff Locations:\")  # Print section header\n",
        "top_do = zones_dropoff.nlargest(10, \"count\")[[\"zone\", \"borough\", \"count\"]]\n",
        "# nlargest(10, \"count\"): get 10 zones with highest dropoff counts\n",
        "# [[\"zone\", \"borough\", \"count\"]]: select only these 3 columns\n",
        "print(top_do.to_string(index=False))  # Display table without row numbers"
      ]
    },
    {
      "cell_type": "markdown",
      "id": "4e7e8699",
      "metadata": {
        "id": "4e7e8699"
      },
      "source": [
        "### Origin-Destination (OD) Flow Analysis\n",
        "\n",
        "Analyze and visualize the most popular taxi routes connecting different zones in NYC.\n"
      ]
    },
    {
      "cell_type": "code",
      "execution_count": null,
      "id": "cd9a79c9",
      "metadata": {
        "colab": {
          "base_uri": "https://localhost:8080/"
        },
        "id": "cd9a79c9",
        "outputId": "65043ea2-e21b-4102-875e-39252b94eb64"
      },
      "outputs": [],
      "source": [
        "# ============ Aggregate trips by Origin-Destination (OD) pairs ============\n",
        "od_flow = valid.groupby([\"PULocationID\", \"DOLocationID\"]).size().reset_index(name=\"count\")\n",
        "# groupby(): group trips by pickup zone AND dropoff zone\n",
        "# size(): count trips for each unique OD pair\n",
        "# reset_index(): convert to dataframe with columns: PULocationID, DOLocationID, count\n",
        "\n",
        "od_flow = od_flow.sort_values(\"count\", ascending=False)  # Sort OD pairs by trip count (highest first)\n",
        "\n",
        "print(f\"Total OD pairs: {len(od_flow):,}\")  # Display total number of unique OD pairs\n",
        "\n",
        "# ============ Calculate zone centroids (center points) ============\n",
        "zones_center = zones.copy()  # Make a copy to avoid modifying original zones data\n",
        "zones_center[\"centroid\"] = zones_center.geometry.centroid\n",
        "# .centroid: calculate geometric center of each zone polygon\n",
        "# We'll draw lines from pickup centroid to dropoff centroid\n",
        "\n",
        "# ============ Import geometry library for creating lines ============\n",
        "from shapely.geometry import LineString  # LineString creates a line between two points\n",
        "\n",
        "# ============ Initialize lists to store OD flow line data ============\n",
        "lines = []  # Will store LineString geometries (the lines on map)\n",
        "counts = []  # Will store trip counts for each line\n",
        "pu_coords = []  # Pickup (x, y) coordinates\n",
        "do_coords = []  # Dropoff (x, y) coordinates\n",
        "pu_zones = []  # Pickup zone names\n",
        "do_zones = []  # Dropoff zone names\n",
        "\n",
        "print(\"Creating OD flow lines...\")\n",
        "# Loop through each OD pair to create corresponding line geometry\n",
        "for _, row in od_flow.iterrows():  # Iterate through each row in od_flow\n",
        "    # Find the zone geometry for pickup location\n",
        "    pu = zones_center[zones_center[\"LocationID\"] == row[\"PULocationID\"]]\n",
        "    # Find the zone geometry for dropoff location\n",
        "    do = zones_center[zones_center[\"LocationID\"] == row[\"DOLocationID\"]]\n",
        "\n",
        "    # Only create line if both pickup and dropoff zones exist in our shapefile\n",
        "    if len(pu) > 0 and len(do) > 0:\n",
        "        pu_centroid = pu.iloc[0][\"centroid\"]  # Get pickup zone's centroid\n",
        "        do_centroid = do.iloc[0][\"centroid\"]  # Get dropoff zone's centroid\n",
        "\n",
        "        # Create a straight line from pickup centroid to dropoff centroid\n",
        "        line = LineString([pu_centroid, do_centroid])\n",
        "\n",
        "        # Append all data to respective lists\n",
        "        lines.append(line)  # Add line geometry\n",
        "        counts.append(row[\"count\"])  # Add trip count\n",
        "        pu_coords.append((pu_centroid.x, pu_centroid.y))  # Add pickup coordinates\n",
        "        do_coords.append((do_centroid.x, do_centroid.y))  # Add dropoff coordinates\n",
        "        pu_zones.append(pu.iloc[0][\"zone\"])  # Add pickup zone name\n",
        "        do_zones.append(do.iloc[0][\"zone\"])  # Add dropoff zone name\n",
        "\n",
        "# ============ Create GeoDataFrame for OD flows ============\n",
        "od_gdf = gpd.GeoDataFrame({\n",
        "    \"count\": counts,  # Trip counts\n",
        "    \"geometry\": lines,  # Line geometries\n",
        "    \"pu_zone\": pu_zones,  # Pickup zone names\n",
        "    \"do_zone\": do_zones  # Dropoff zone names\n",
        "}, crs=zones.crs)  # crs: Coordinate Reference System (must match zone data)\n",
        "\n",
        "print(f\"Created {len(od_gdf):,} OD flow lines\")  # Confirm number of lines created"
      ]
    },
    {
      "cell_type": "code",
      "execution_count": null,
      "id": "e181bfbe",
      "metadata": {
        "colab": {
          "base_uri": "https://localhost:8080/",
          "height": 1000
        },
        "id": "e181bfbe",
        "outputId": "b0821bfd-c6be-4c79-cc96-b47818a51b54"
      },
      "outputs": [],
      "source": [
        "# ============ Import color mapping utilities ============\n",
        "from matplotlib.colors import LogNorm, LinearSegmentedColormap  # For log-scale color normalization\n",
        "from matplotlib import cm  # ColorMap utilities\n",
        "\n",
        "# ============ Select top 1000 routes for visualization ============\n",
        "# Why only 1000? Drawing all OD pairs (~60,000) would make the map too cluttered\n",
        "od_gdf_top = od_gdf.sort_values(\"count\", ascending=False).head(1000).copy()\n",
        "# sort_values(): sort by trip count, descending\n",
        "# head(1000): keep only top 1000 routes\n",
        "\n",
        "print(f\"Selected top 1000 routes out of {len(od_gdf):,} total OD pairs\")\n",
        "print(f\"Top 1000 trip count range: {od_gdf_top['count'].min():.0f} to {od_gdf_top['count'].max():,.0f}\")\n",
        "\n",
        "# ============ Create figure with dark background ============\n",
        "fig, ax = plt.subplots(figsize=(18, 16), facecolor='#0a0a0a')  # 18x16 inch, very dark background\n",
        "ax.set_facecolor('#0a0a0a')  # Set plot area background to same dark color\n",
        "\n",
        "# ============ Draw base map (zone boundaries) ============\n",
        "zones.plot(ax=ax, color='#1a1a1a', edgecolor='#666666', linewidth=0.8, alpha=0.7)\n",
        "# color='#1a1a1a': very dark gray fill for zones\n",
        "# edgecolor='#666666': medium gray for boundaries\n",
        "# alpha=0.7: slight transparency\n",
        "\n",
        "# ============ Create custom color gradient ============\n",
        "colors = ['#660000', '#ff3300', '#ffcc00', '#ffffcc']\n",
        "# Dark red → bright red → orange → pale yellow/white\n",
        "# This creates a \"heat\" effect: cool (low volume) to hot (high volume)\n",
        "cmap = LinearSegmentedColormap.from_list(\"bright_warm\", colors, N=256)\n",
        "# N=256: create 256 color steps for smooth gradient\n",
        "\n",
        "# ============ Set up logarithmic color normalization ============\n",
        "counts = od_gdf_top[\"count\"].fillna(1).to_numpy()  # Convert counts to numpy array, fill missing with 1\n",
        "norm = LogNorm(vmin=max(counts.min(), 1), vmax=counts.max())\n",
        "# LogNorm: map values to colors using logarithmic scale\n",
        "# vmin/vmax: minimum and maximum values for color mapping\n",
        "\n",
        "print(f\"Drawing top {len(od_gdf_top):,} OD flow lines...\")\n",
        "\n",
        "# ============ Define line width range ============\n",
        "max_w = 4.2  # Maximum line width (for highest volume routes)\n",
        "min_w = 0.5  # Minimum line width (for lowest volume routes)\n",
        "\n",
        "# ============ Draw each OD flow line ============\n",
        "for _, row in od_gdf_top.iterrows():  # Loop through each of the top 1000 routes\n",
        "    # Get trip count, ensure it's at least 1 (avoid log(0))\n",
        "    cnt = max(1, float(row[\"count\"]) if not pd.isna(row[\"count\"]) else 1)\n",
        "\n",
        "    # ---- Map count to color using log scale ----\n",
        "    color = cmap(norm(cnt))  # norm(cnt): normalize count to 0-1 range, cmap(): map to color\n",
        "\n",
        "    # ---- Calculate line width and transparency based on volume ----\n",
        "    # Normalize count to 0-1 range using log scale\n",
        "    log_t = (np.log10(cnt) - np.log10(counts.min())) / (np.log10(counts.max()) - np.log10(counts.min()))\n",
        "    # Map normalized value to line width range\n",
        "    linewidth = min_w + log_t * (max_w - min_w)\n",
        "    # Map to alpha (transparency): 0.35 (low volume) to 1.0 (high volume)\n",
        "    alpha = np.clip(0.35 + log_t * 0.65, 0.0, 1.0)  # clip: ensure value stays in 0-1 range\n",
        "\n",
        "    # ---- Extract line coordinates ----\n",
        "    try:\n",
        "        coords = list(row.geometry.coords)  # Get (x,y) coordinates of line endpoints\n",
        "        if len(coords) < 2:  # Skip if line doesn't have 2 endpoints\n",
        "            continue\n",
        "        (x0, y0), (x1, y1) = coords[0], coords[1]  # Extract start and end points\n",
        "    except Exception:  # Skip if any error occurs\n",
        "        continue\n",
        "\n",
        "    # ---- Draw the line ----\n",
        "    ax.plot([x0, x1], [y0, y1],  # Draw from (x0,y0) to (x1,y1)\n",
        "            color=color,  # Use calculated color\n",
        "            linewidth=linewidth,  # Use calculated width\n",
        "            alpha=alpha,  # Use calculated transparency\n",
        "            zorder=2)  # zorder=2: draw lines above base map (which has default zorder=1)\n",
        "\n",
        "# ============ Add title and description ============\n",
        "ax.set_title(f\"NYC Taxi OD Flow - Top {len(od_gdf_top):,} Routes (Log Scale)\",\n",
        "             fontsize=24, color='white', fontweight='bold', pad=20)\n",
        "# Add explanatory text in bottom-left corner\n",
        "ax.text(0.02, 0.02,  # Position at 2% from left, 2% from bottom\n",
        "        'Color shows trip volume (log scale): dark red = low, yellow/white = high',\n",
        "        transform=ax.transAxes,  # Use axes coordinates (0-1) instead of data coordinates\n",
        "        fontsize=14, color='white',\n",
        "        bbox=dict(boxstyle='round', facecolor='black', alpha=0.8))  # Black rounded box background\n",
        "\n",
        "ax.axis(\"off\")  # Hide coordinate axes\n",
        "\n",
        "# ============ Add colorbar (legend) ============\n",
        "sm = cm.ScalarMappable(cmap=cmap, norm=norm)  # Create mappable object for colorbar\n",
        "sm.set_array([])  # Required by matplotlib (empty array is fine)\n",
        "cbar = plt.colorbar(sm, ax=ax, fraction=0.025, pad=0.02)  # Create colorbar: 2.5% of plot width\n",
        "cbar.set_label('Trip Count (log scale)', color='white', fontsize=14, fontweight='bold')\n",
        "cbar.ax.yaxis.set_tick_params(color='white', labelsize=11)  # White tick marks\n",
        "plt.setp(plt.getp(cbar.ax.axes, 'yticklabels'), color='white')  # White tick labels\n",
        "cbar.outline.set_edgecolor('white')  # White colorbar border\n",
        "\n",
        "# ============ Display the visualization ============\n",
        "plt.tight_layout()  # Adjust spacing\n",
        "plt.show()  # Render and display\n",
        "\n",
        "print(f\"✅ Finished drawing top {len(od_gdf_top):,} routes!\")\n",
        "print(f\"   These routes account for the highest trip volumes in NYC\")\n"
      ]
    },
    {
      "cell_type": "markdown",
      "id": "3g2C_-7lPFrR",
      "metadata": {
        "id": "3g2C_-7lPFrR"
      },
      "source": [
        "Application"
      ]
    }
  ],
  "metadata": {
    "colab": {
      "provenance": []
    },
    "kernelspec": {
      "display_name": "pneuma",
      "language": "python",
      "name": "pneuma"
    },
    "language_info": {
      "codemirror_mode": {
        "name": "ipython",
        "version": 3
      },
      "file_extension": ".py",
      "mimetype": "text/x-python",
      "name": "python",
      "nbconvert_exporter": "python",
      "pygments_lexer": "ipython3",
      "version": "3.11.11"
    }
  },
  "nbformat": 4,
  "nbformat_minor": 5
}
